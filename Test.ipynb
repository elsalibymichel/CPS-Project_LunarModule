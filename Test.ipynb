{
 "cells": [
  {
   "cell_type": "code",
   "execution_count": null,
   "id": "initial_id",
   "metadata": {
    "collapsed": true
   },
   "outputs": [],
   "source": [
    "# IMport the library and the functions\n",
    "import gym\n",
    "from DQN import DQN, plot_history\n",
    "from keras import Sequential\n",
    "from keras.layers import Dense, Input\n",
    "from Falsification import MoonlightFalsification"
   ]
  },
  {
   "metadata": {},
   "cell_type": "code",
   "outputs": [],
   "execution_count": null,
   "source": [
    "# Define the environment\n",
    "env = gym.make('LunarLander-v2')\n",
    "# Define the number of actions\n",
    "num_actions = env.action_space.n\n",
    "# Define the state size\n",
    "state_size = env.observation_space.shape[0]\n",
    "\n",
    "# Define the q network\n",
    "q_network = Sequential([\n",
    "    Input(state_size),\n",
    "    Dense(units=64, activation='relu'),\n",
    "    Dense(units=64, activation='relu'),\n",
    "    Dense(units=num_actions, activation='linear')\n",
    "])\n",
    "\n",
    "# Define the target q network\n",
    "target_q = Sequential([\n",
    "    Input(state_size),\n",
    "    Dense(units=64, activation='relu'),\n",
    "    Dense(units=64, activation='relu'),\n",
    "    Dense(units=num_actions, activation='linear')\n",
    "])\n",
    "\n",
    "# Define the class of DQN \n",
    "dqn = DQN(learning_rate=0.001, size_batch=64, epsilon_dec=0.6)\n",
    "\n",
    "# Compute the DQN and create the model\n",
    "cDR_list, cDR_mean_list = dqn.DQN(env=env, q_network=q_network, target_q=target_q, max_episodes=5000)\n",
    "\n",
    "# Plot the result of the CDR \n",
    "plot_history(cDR_list, cDR_mean_list)\n",
    "\n",
    "q_network.save('NoName_Model.h5')"
   ],
   "id": "d7f729a2d246f654"
  },
  {
   "metadata": {},
   "cell_type": "code",
   "outputs": [],
   "execution_count": null,
   "source": [
    "# Define the Moonlight Class\n",
    "falsification = MoonlightFalsification(model_path=\"Lander_trained_model.h5\")\n",
    "\n",
    "# Initialize the number of falsification and the list to save the results\n",
    "n_falsification_runs = 5\n",
    "falsifications_lists = [[] for _ in range(n_falsification_runs)]\n",
    "best_individual_lists = [[] for _ in range(n_falsification_runs)]\n",
    "\n",
    "# Execute the simulations \n",
    "for yy in range(n_falsification_runs):\n",
    "    # Compute the best individuals for all simulations and save the individuals that falsify the formulas\n",
    "    best_individual_lists[yy], falsifications_lists[yy] = falsification.falsification( \n",
    "        exp_name=f\"NoName_Run-{yy}of{n_falsification_runs}\", n_parents=10, n_offspring_per_parent=2,\n",
    "        simulation_steps=500, max_falsification_evaluations=2000, mutation_rate=0.05)\n",
    "    # Save the data in a csv structure\n",
    "    best_individual_lists[yy].to_csv(f'NoName_best-individuals_run-{yy+1}of{n_falsification_runs}.csv', index=False)\n",
    "    falsifications_lists[yy].to_csv(f'NoName_falsification-list_run-{yy+1}of{n_falsification_runs}.csv', index=False)"
   ],
   "id": "78ba6a1aeead2d2f"
  }
 ],
 "metadata": {
  "kernelspec": {
   "display_name": "Python 3",
   "language": "python",
   "name": "python3"
  },
  "language_info": {
   "codemirror_mode": {
    "name": "ipython",
    "version": 2
   },
   "file_extension": ".py",
   "mimetype": "text/x-python",
   "name": "python",
   "nbconvert_exporter": "python",
   "pygments_lexer": "ipython2",
   "version": "2.7.6"
  }
 },
 "nbformat": 4,
 "nbformat_minor": 5
}
